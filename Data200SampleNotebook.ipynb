{
  "nbformat": 4,
  "nbformat_minor": 0,
  "metadata": {
    "colab": {
      "name": "Data200SampleNotebook.ipynb",
      "provenance": [],
      "collapsed_sections": [],
      "authorship_tag": "ABX9TyND/1qqWMwLWnme+M6+otJr",
      "include_colab_link": true
    },
    "kernelspec": {
      "name": "python3",
      "display_name": "Python 3"
    },
    "language_info": {
      "name": "python"
    }
  },
  "cells": [
    {
      "cell_type": "markdown",
      "metadata": {
        "id": "view-in-github",
        "colab_type": "text"
      },
      "source": [
        "<a href=\"https://colab.research.google.com/github/drewd789/Additive-Forms-Twice-Odd-Q_2/blob/main/Data200SampleNotebook.ipynb\" target=\"_parent\"><img src=\"https://colab.research.google.com/assets/colab-badge.svg\" alt=\"Open In Colab\"/></a>"
      ]
    },
    {
      "cell_type": "markdown",
      "source": [
        "Let's create a function that will tell if the input is even."
      ],
      "metadata": {
        "id": "8qbMJ2qIdWls"
      }
    },
    {
      "cell_type": "code",
      "execution_count": null,
      "metadata": {
        "id": "BLcc66CSc_6n"
      },
      "outputs": [],
      "source": [
        "def iseven(n):\n",
        "  return n%2 == 0"
      ]
    },
    {
      "cell_type": "markdown",
      "source": [
        "Let's try the function out with some sample input."
      ],
      "metadata": {
        "id": "UoVIRSgjdm0r"
      }
    },
    {
      "cell_type": "code",
      "source": [
        "iseven(7)"
      ],
      "metadata": {
        "colab": {
          "base_uri": "https://localhost:8080/"
        },
        "id": "EmMq7nAmdPdA",
        "outputId": "8e9d6bec-0a98-4065-9ab0-2e56e2388471"
      },
      "execution_count": null,
      "outputs": [
        {
          "output_type": "execute_result",
          "data": {
            "text/plain": [
              "False"
            ]
          },
          "metadata": {},
          "execution_count": 2
        }
      ]
    }
  ]
}